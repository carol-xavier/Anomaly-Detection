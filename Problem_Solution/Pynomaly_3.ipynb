{
 "cells": [
  {
   "cell_type": "code",
   "execution_count": null,
   "metadata": {},
   "outputs": [],
   "source": [
    "import matplotlib as mpl\n",
    "import os\n",
    "from dotenv import load_dotenv\n",
    "from smtplib import SMTP\n",
    "from email.message import EmailMessage\n",
    "import pandas as pd\n",
    "from prophet import Prophet\n",
    "\n",
    "mpl.rcParams['figure.figsize'] = (10,8)\n",
    "mpl.rcParams['axes.grid'] = False\n",
    "\n",
    "df1 = pd.read_csv('resources/transactions_1_tmp.csv')\n",
    "df2 = pd.read_csv('resources/transactions_2_tmp.csv')"
   ]
  },
  {
   "cell_type": "code",
   "execution_count": 2,
   "metadata": {},
   "outputs": [],
   "source": [
    "df1['time'] = pd.to_datetime(df1['time'], format='%H:%M')\n",
    "df2['time'] = pd.to_datetime(df2['time'], format='%H:%M')\n",
    "\n",
    "df1 = df1.loc[(df1['status'] == 'reversed') | (df1['status'] == 'failed') | (df1['status'] == 'denied')]\n",
    "df2 = df2.loc[(df2['status'] == 'reversed') | (df2['status'] == 'failed') | (df2['status'] == 'denied')]\n",
    "\n",
    "df3 = pd.concat([df1, df2])"
   ]
  },
  {
   "cell_type": "code",
   "execution_count": null,
   "metadata": {},
   "outputs": [],
   "source": [
    "df3['timestamp'] = pd.to_datetime(df3['timestamp'])\n",
    "df3 = df3.set_index('timestamp').resample('H').mean()\n",
    "\n",
    "df3 = df3.reset_index()\n",
    "df3 = df3[['timestamp', 'count']].rename({'timestamp':'ds', 'count':'y'}, axis='columns')"
   ]
  },
  {
   "cell_type": "code",
   "execution_count": 4,
   "metadata": {},
   "outputs": [],
   "source": [
    "#test = df3[(df3['ds'] >= '2022-11-01') & (df3['ds'] < '2022-11-02')]\n",
    "#train = df3[(df3['ds'] >= '2022-11-02')]"
   ]
  },
  {
   "cell_type": "code",
   "execution_count": 5,
   "metadata": {},
   "outputs": [],
   "source": [
    "#test.shape"
   ]
  },
  {
   "cell_type": "code",
   "execution_count": 6,
   "metadata": {},
   "outputs": [],
   "source": [
    "#train.shape"
   ]
  },
  {
   "cell_type": "code",
   "execution_count": 7,
   "metadata": {},
   "outputs": [],
   "source": [
    "m = Prophet(changepoint_range=0.95)"
   ]
  },
  {
   "cell_type": "code",
   "execution_count": 8,
   "metadata": {},
   "outputs": [
    {
     "name": "stderr",
     "output_type": "stream",
     "text": [
      "22:21:05 - cmdstanpy - INFO - Chain [1] start processing\n",
      "22:21:05 - cmdstanpy - INFO - Chain [1] done processing\n"
     ]
    },
    {
     "data": {
      "text/plain": [
       "<prophet.forecaster.Prophet at 0x7f05d1673d90>"
      ]
     },
     "execution_count": 8,
     "metadata": {},
     "output_type": "execute_result"
    }
   ],
   "source": [
    "m.fit(df3)"
   ]
  },
  {
   "cell_type": "code",
   "execution_count": 9,
   "metadata": {},
   "outputs": [],
   "source": [
    "future = m.make_future_dataframe(periods=48, freq='H')"
   ]
  },
  {
   "cell_type": "code",
   "execution_count": 10,
   "metadata": {},
   "outputs": [],
   "source": [
    "#future.tail(72)"
   ]
  },
  {
   "cell_type": "code",
   "execution_count": 11,
   "metadata": {},
   "outputs": [
    {
     "data": {
      "text/html": [
       "<div>\n",
       "<style scoped>\n",
       "    .dataframe tbody tr th:only-of-type {\n",
       "        vertical-align: middle;\n",
       "    }\n",
       "\n",
       "    .dataframe tbody tr th {\n",
       "        vertical-align: top;\n",
       "    }\n",
       "\n",
       "    .dataframe thead th {\n",
       "        text-align: right;\n",
       "    }\n",
       "</style>\n",
       "<table border=\"1\" class=\"dataframe\">\n",
       "  <thead>\n",
       "    <tr style=\"text-align: right;\">\n",
       "      <th></th>\n",
       "      <th>ds</th>\n",
       "      <th>yhat</th>\n",
       "      <th>yhat_lower</th>\n",
       "      <th>yhat_upper</th>\n",
       "    </tr>\n",
       "  </thead>\n",
       "  <tbody>\n",
       "    <tr>\n",
       "      <th>91</th>\n",
       "      <td>2022-11-04 19:00:00</td>\n",
       "      <td>18.687654</td>\n",
       "      <td>2.481176</td>\n",
       "      <td>36.695014</td>\n",
       "    </tr>\n",
       "    <tr>\n",
       "      <th>92</th>\n",
       "      <td>2022-11-04 20:00:00</td>\n",
       "      <td>18.754321</td>\n",
       "      <td>1.529106</td>\n",
       "      <td>36.561661</td>\n",
       "    </tr>\n",
       "    <tr>\n",
       "      <th>93</th>\n",
       "      <td>2022-11-04 21:00:00</td>\n",
       "      <td>18.820987</td>\n",
       "      <td>2.380724</td>\n",
       "      <td>36.002199</td>\n",
       "    </tr>\n",
       "    <tr>\n",
       "      <th>94</th>\n",
       "      <td>2022-11-04 22:00:00</td>\n",
       "      <td>18.887654</td>\n",
       "      <td>1.897390</td>\n",
       "      <td>36.382395</td>\n",
       "    </tr>\n",
       "    <tr>\n",
       "      <th>95</th>\n",
       "      <td>2022-11-04 23:00:00</td>\n",
       "      <td>18.954320</td>\n",
       "      <td>1.578713</td>\n",
       "      <td>36.349191</td>\n",
       "    </tr>\n",
       "  </tbody>\n",
       "</table>\n",
       "</div>"
      ],
      "text/plain": [
       "                    ds       yhat  yhat_lower  yhat_upper\n",
       "91 2022-11-04 19:00:00  18.687654    2.481176   36.695014\n",
       "92 2022-11-04 20:00:00  18.754321    1.529106   36.561661\n",
       "93 2022-11-04 21:00:00  18.820987    2.380724   36.002199\n",
       "94 2022-11-04 22:00:00  18.887654    1.897390   36.382395\n",
       "95 2022-11-04 23:00:00  18.954320    1.578713   36.349191"
      ]
     },
     "execution_count": 11,
     "metadata": {},
     "output_type": "execute_result"
    }
   ],
   "source": [
    "forecast = m.predict(future)\n",
    "forecast[['ds','yhat','yhat_lower','yhat_upper']].tail()"
   ]
  },
  {
   "cell_type": "code",
   "execution_count": 12,
   "metadata": {},
   "outputs": [],
   "source": [
    "results=pd.concat([df3.set_index('ds')['y'],forecast.set_index('ds')[['yhat','yhat_lower','yhat_upper']]],axis=1)"
   ]
  },
  {
   "cell_type": "code",
   "execution_count": 14,
   "metadata": {},
   "outputs": [
    {
     "data": {
      "image/png": "[encoded data removed]",
      "text/plain": [
       "<Figure size 720x432 with 1 Axes>"
      ]
     },
     "metadata": {},
     "output_type": "display_data"
    }
   ],
   "source": [
    "fig1 = m.plot(forecast)"
   ]
  },
  {
   "cell_type": "code",
   "execution_count": null,
   "metadata": {},
   "outputs": [],
   "source": [
    "comp = m.plot_components(forecast)"
   ]
  },
  {
   "cell_type": "code",
   "execution_count": null,
   "metadata": {},
   "outputs": [],
   "source": [
    "results"
   ]
  },
  {
   "cell_type": "code",
   "execution_count": 17,
   "metadata": {},
   "outputs": [],
   "source": [
    "results['error'] = results['y'] - results['yhat']"
   ]
  },
  {
   "cell_type": "code",
   "execution_count": 18,
   "metadata": {},
   "outputs": [],
   "source": [
    "results['uncertainty'] = results['yhat_upper'] - results['yhat_lower']"
   ]
  },
  {
   "cell_type": "code",
   "execution_count": null,
   "metadata": {},
   "outputs": [],
   "source": [
    "results"
   ]
  },
  {
   "cell_type": "code",
   "execution_count": 20,
   "metadata": {},
   "outputs": [],
   "source": [
    "#results[results['error']].abs() > 1.5*results['uncertainty']\n",
    "#Encountering issue due to NaN 'y's. The data hasn't missing values or unfit indexes"
   ]
  },
  {
   "cell_type": "code",
   "execution_count": null,
   "metadata": {},
   "outputs": [],
   "source": [
    "#Identify annomaly by Confidence Interval \n",
    "out_up = df3.loc[df3['y'] > 30, ['ds','y']]\n",
    "out_up"
   ]
  },
  {
   "cell_type": "code",
   "execution_count": 22,
   "metadata": {},
   "outputs": [],
   "source": [
    "load_dotenv()\n",
    "email = os.environ['email_address']\n",
    "passcode = os.environ['keycode']\n",
    "\n",
    "def email_alert(subject,body,to):\n",
    "     msg = EmailMessage()\n",
    "     msg.set_content(body)\n",
    "     msg['subject'] = subject\n",
    "     msg['to'] = to\n",
    "     msg['from'] = email\n",
    "\n",
    "     user = email\n",
    "     password = passcode\n",
    "\n",
    "     server = SMTP(\"smtp.gmail.com\",587)\n",
    "     server.starttls()\n",
    "     server.login(user, password)\n",
    "     server.send_message(msg)\n",
    "\n",
    "     server.quit()\n",
    "\n",
    "msg = 'Please, check these datapoints {}'.format(out_up)\n",
    "email_alert('[TEST]Anomaly Detection Alert',msg, email)\n"
   ]
  }
 ],
 "metadata": {
  "kernelspec": {
   "display_name": "Python 3.10.6 64-bit",
   "language": "python",
   "name": "python3"
  },
  "language_info": {
   "codemirror_mode": {
    "name": "ipython",
    "version": 3
   },
   "file_extension": ".py",
   "mimetype": "text/x-python",
   "name": "python",
   "nbconvert_exporter": "python",
   "pygments_lexer": "ipython3",
   "version": "3.10.6"
  },
  "orig_nbformat": 4,
  "vscode": {
   "interpreter": {
    "hash": "916dbcbb3f70747c44a77c7bcd40155683ae19c65e1c03b4aa3499c5328201f1"
   }
  }
 },
 "nbformat": 4,
 "nbformat_minor": 2
}
